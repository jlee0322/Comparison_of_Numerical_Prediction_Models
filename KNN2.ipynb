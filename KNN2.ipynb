{
 "cells": [
  {
   "cell_type": "code",
   "execution_count": 1,
   "id": "fcc2095e-49cd-40df-88ff-f3c67fa6dafd",
   "metadata": {},
   "outputs": [],
   "source": [
    "import pandas as pd\n",
    "import csv\n",
    "import matplotlib.pyplot as plt\n",
    "from sklearn.model_selection import train_test_split\n",
    "from sklearn.ensemble import RandomForestClassifier\n",
    "from sklearn.model_selection import GridSearchCV\n",
    "from sklearn import metrics\n",
    "from sklearn import tree\n",
    "from sklearn.preprocessing import LabelEncoder\n",
    "from sklearn.metrics import classification_report\n",
    "from sklearn.neighbors import KNeighborsClassifier\n",
    "from sklearn.metrics import mean_absolute_error\n",
    "from sklearn.metrics import mean_squared_error\n",
    "from sklearn.metrics import mean_absolute_percentage_error"
   ]
  },
  {
   "cell_type": "code",
   "execution_count": 2,
   "id": "08f2c05f-602b-46f7-bb3e-5bbc041e6268",
   "metadata": {},
   "outputs": [],
   "source": [
    "def main():\n",
    "    #load dataset\n",
    "    acc = pd.read_csv('accelerometer.data')\n",
    "    \n",
    "    #get train data\n",
    "    x = acc.iloc[:,[2,3,4]]\n",
    "    y = acc.iloc[:,0]\n",
    "    print(x)\n",
    "    print(y)\n",
    "    x_train , x_test , y_train , y_test = train_test_split(x , y , test_size = 0.3 ,random_state = 0)\n",
    "    \n",
    "    \n",
    "    #fit\n",
    "    Knn = KNeighborsClassifier()\n",
    "    Knn.fit(x_train,y_train.astype('int'))\n",
    "    \n",
    "    #predict\n",
    "    y_pred_test = Knn.predict(x_test)\n",
    "    \n",
    "    #score\n",
    "    print('MAE: ', mean_absolute_error(y_test, y_pred_test))\n",
    "    print('RMSE: ', mean_squared_error(y_test, y_pred_test, squared=False))\n",
    "    print('MAPE: ', mean_absolute_percentage_error(y_test, y_pred_test))"
   ]
  },
  {
   "cell_type": "code",
   "execution_count": 3,
   "id": "a133a2c2-b21f-4d1f-ae58-94b9fd7042e5",
   "metadata": {},
   "outputs": [
    {
     "name": "stdout",
     "output_type": "stream",
     "text": [
      "            x      y      z\n",
      "0       1.004  0.090 -0.125\n",
      "1       1.004 -0.043 -0.125\n",
      "2       0.969  0.090 -0.121\n",
      "3       0.973 -0.012 -0.137\n",
      "4       1.000 -0.016 -0.121\n",
      "...       ...    ...    ...\n",
      "152995  1.051  0.090 -0.262\n",
      "152996  0.918  0.039 -0.129\n",
      "152997  1.156 -0.094 -0.227\n",
      "152998  0.934  0.203 -0.172\n",
      "152999  1.199 -0.176  0.109\n",
      "\n",
      "[153000 rows x 3 columns]\n",
      "0         1\n",
      "1         1\n",
      "2         1\n",
      "3         1\n",
      "4         1\n",
      "         ..\n",
      "152995    3\n",
      "152996    3\n",
      "152997    3\n",
      "152998    3\n",
      "152999    3\n",
      "Name: wconfid, Length: 153000, dtype: int64\n",
      "MAE:  0.5957298474945534\n",
      "RMSE:  0.9233358108553156\n",
      "MAPE:  0.38035221496005805\n"
     ]
    }
   ],
   "source": [
    "if __name__ == '__main__':\n",
    "    #with open('Ans.csv', 'w',encoding='utf-8') as csvfile:\n",
    "    main()"
   ]
  }
 ],
 "metadata": {
  "kernelspec": {
   "display_name": "Python 3 (ipykernel)",
   "language": "python",
   "name": "python3"
  },
  "language_info": {
   "codemirror_mode": {
    "name": "ipython",
    "version": 3
   },
   "file_extension": ".py",
   "mimetype": "text/x-python",
   "name": "python",
   "nbconvert_exporter": "python",
   "pygments_lexer": "ipython3",
   "version": "3.7.13"
  }
 },
 "nbformat": 4,
 "nbformat_minor": 5
}
