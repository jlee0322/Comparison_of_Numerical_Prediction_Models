{
 "cells": [
  {
   "cell_type": "code",
   "execution_count": 1,
   "id": "fcc2095e-49cd-40df-88ff-f3c67fa6dafd",
   "metadata": {},
   "outputs": [],
   "source": [
    "import pandas as pd\n",
    "import csv\n",
    "import matplotlib.pyplot as plt\n",
    "from sklearn.model_selection import train_test_split\n",
    "from sklearn.ensemble import RandomForestClassifier\n",
    "from sklearn.model_selection import GridSearchCV\n",
    "from sklearn import metrics\n",
    "from sklearn import tree\n",
    "from sklearn.preprocessing import LabelEncoder\n",
    "from sklearn.metrics import classification_report\n",
    "from sklearn.neighbors import KNeighborsClassifier\n",
    "from sklearn.metrics import mean_absolute_error\n",
    "from sklearn.metrics import mean_squared_error\n",
    "from sklearn.metrics import mean_absolute_percentage_error\n",
    "import math\n",
    "from sklearn.preprocessing import StandardScaler"
   ]
  },
  {
   "cell_type": "code",
   "execution_count": 2,
   "id": "08f2c05f-602b-46f7-bb3e-5bbc041e6268",
   "metadata": {},
   "outputs": [],
   "source": [
    "def main():\n",
    "    #load dataset\n",
    "    acc = pd.read_csv('accelerometer.data')\n",
    "    \n",
    "    #get train data\n",
    "    x = acc.iloc[:,[2,3,4]]\n",
    "    y = acc.iloc[:,0]\n",
    "\n",
    "    x_train , x_test , y_train , y_test = train_test_split(x , y , test_size = 0.3 ,random_state = 0)\n",
    "    \n",
    "    \n",
    "    #fit\n",
    "    RT = RandomForestClassifier(n_estimators = 400)\n",
    "    RT.fit(x_train,y_train.astype('int'))\n",
    "    print(RT.feature_importances_)\n",
    "    #predict\n",
    "    y_pred_test = RT.predict(x_test)\n",
    "    \n",
    "    #score\n",
    "    print('MAE: ', mean_absolute_error(y_test, y_pred_test))\n",
    "    print('RMSE: ', mean_squared_error(y_test, y_pred_test, squared=False))\n",
    "    print('MAPE: ', mean_absolute_percentage_error(y_test, y_pred_test))"
   ]
  },
  {
   "cell_type": "code",
   "execution_count": 3,
   "id": "a133a2c2-b21f-4d1f-ae58-94b9fd7042e5",
   "metadata": {},
   "outputs": [
    {
     "name": "stdout",
     "output_type": "stream",
     "text": [
      "[0.31386042 0.38857884 0.29756074]\n",
      "MAE:  0.5836601307189543\n",
      "RMSE:  0.9130856970712434\n",
      "MAPE:  0.3906572258533043\n"
     ]
    }
   ],
   "source": [
    "if __name__ == '__main__':\n",
    "    #with open('Ans.csv', 'w',encoding='utf-8') as csvfile:\n",
    "    main() #0246"
   ]
  }
 ],
 "metadata": {
  "kernelspec": {
   "display_name": "Python 3 (ipykernel)",
   "language": "python",
   "name": "python3"
  },
  "language_info": {
   "codemirror_mode": {
    "name": "ipython",
    "version": 3
   },
   "file_extension": ".py",
   "mimetype": "text/x-python",
   "name": "python",
   "nbconvert_exporter": "python",
   "pygments_lexer": "ipython3",
   "version": "3.7.13"
  }
 },
 "nbformat": 4,
 "nbformat_minor": 5
}
