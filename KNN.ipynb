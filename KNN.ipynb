{
 "cells": [
  {
   "cell_type": "code",
   "execution_count": 1,
   "id": "fcc2095e-49cd-40df-88ff-f3c67fa6dafd",
   "metadata": {},
   "outputs": [],
   "source": [
    "import pandas as pd\n",
    "import csv\n",
    "import matplotlib.pyplot as plt\n",
    "from sklearn.model_selection import train_test_split\n",
    "from sklearn.ensemble import RandomForestClassifier\n",
    "from sklearn.model_selection import GridSearchCV\n",
    "from sklearn import metrics\n",
    "from sklearn import tree\n",
    "from sklearn.preprocessing import LabelEncoder\n",
    "from sklearn.metrics import classification_report\n",
    "from sklearn.neighbors import KNeighborsClassifier\n",
    "from sklearn.metrics import mean_absolute_error\n",
    "from sklearn.metrics import mean_squared_error\n",
    "from sklearn.metrics import mean_absolute_percentage_error"
   ]
  },
  {
   "cell_type": "code",
   "execution_count": 2,
   "id": "08f2c05f-602b-46f7-bb3e-5bbc041e6268",
   "metadata": {},
   "outputs": [],
   "source": [
    "def main():\n",
    "    adult = pd.read_csv('adult.data')\n",
    "    adult_test = pd.read_csv('adult.test')\n",
    "    \n",
    "    X = adult.iloc[:,[0,1,2,3,4,5,6,7,8,9,10,11,13,14]]\n",
    "    y = adult['hours-per-week']\n",
    "    \n",
    "    test_X = adult_test.iloc[:,[0,1,2,3,4,5,6,7,8,9,10,11,13,14]]\n",
    "    test_y = adult_test['hours-per-week']\n",
    "    \n",
    "    #labelencoder_X = LabelEncoder()\n",
    "    X = X.apply(LabelEncoder().fit_transform)\n",
    "    test_X = test_X.apply(LabelEncoder().fit_transform)\n",
    "    \n",
    "    #=======================================================================================================================================================\n",
    "    '''\n",
    "    #[1,2,3,4,5,6,7,8,9,10,11,12,13,14,15,16,17,18,19,20,21,22,23,24,25,26,27,28,29,30]\n",
    "    # 選出效果最好的參數\n",
    "    parameters={\n",
    "                'criterion':['gini'],\n",
    "                'max_depth':range(1,20),\n",
    "                'min_samples_split':range(2,40),\n",
    "                'min_samples_leaf':range(1,40)\n",
    "                }\n",
    "    \n",
    "    clf = RandomForestClassifier()\n",
    "    grid_search = GridSearchCV(clf, parameters, scoring='accuracy',cv=5,n_jobs=-1)\n",
    "    grid_search.fit(X,y)\n",
    "\n",
    "    best_estimator = grid_search.best_estimator_\n",
    "    best_score = grid_search.best_score_\n",
    "    best_param = grid_search.best_params_\n",
    "    \n",
    "    print(best_estimator)\n",
    "    print(best_score)\n",
    "    print(best_param)\n",
    "    '''\n",
    "    #=======================================================================================================================================================\n",
    "    clf =  KNeighborsClassifier()\n",
    "    \n",
    "    # 建立分類器\n",
    "    adult_clf = clf.fit(X, y)       \n",
    "   \n",
    "    '''\n",
    "    # 輸出分類樹圖片\n",
    "    tree.plot_tree(adult_clf)\n",
    "    # 儲存分類器圖片, bbox_inches=”tight” : 可防止截斷圖像\n",
    "    plt.savefig('tree.png', format='png', bbox_inches = \"tight\")\n",
    "    '''\n",
    "    # train data & test data\n",
    "    test_y_pre = adult_clf.predict(X)\n",
    "    test_y_predicted = adult_clf.predict(test_X)\n",
    "    \n",
    "    # train data & test data 與 train data 做比較\n",
    "    #accuracy1 = metrics.accuracy_score(y,test_y_pre)\n",
    "    #accuracy = metrics.accuracy_score(test_y, test_y_predicted)\n",
    "    \n",
    "    # 輸出比較值\n",
    "    #print(accuracy1)\n",
    "    #print(accuracy)\n",
    "    #print(classification_report(test_y, test_y_predicted))\n",
    "    print('MAE: ', mean_absolute_error(test_y, test_y_predicted))\n",
    "    print('RMSE: ', mean_squared_error(test_y, test_y_predicted,squared=False))\n",
    "    print('MAPE: ', mean_absolute_percentage_error(test_y, test_y_predicted))\n",
    "    #=======================================================================================================================================================\n",
    "    \n",
    "    # 將比較結果寫入 csv 檔中\n",
    "    dict = {'test_y': test_y, 'train_test_y': test_y_predicted} \n",
    "    df = pd.DataFrame(dict)\n",
    "    df.to_csv('Ans1.csv', index = False)"
   ]
  },
  {
   "cell_type": "code",
   "execution_count": 3,
   "id": "a133a2c2-b21f-4d1f-ae58-94b9fd7042e5",
   "metadata": {},
   "outputs": [
    {
     "name": "stdout",
     "output_type": "stream",
     "text": [
      "MAE:  9.195196855230023\n",
      "RMSE:  14.260320292486316\n",
      "MAPE:  0.3658171687094776\n"
     ]
    }
   ],
   "source": [
    "if __name__ == '__main__':\n",
    "    #with open('Ans.csv', 'w',encoding='utf-8') as csvfile:\n",
    "    main()"
   ]
  }
 ],
 "metadata": {
  "kernelspec": {
   "display_name": "Python 3 (ipykernel)",
   "language": "python",
   "name": "python3"
  },
  "language_info": {
   "codemirror_mode": {
    "name": "ipython",
    "version": 3
   },
   "file_extension": ".py",
   "mimetype": "text/x-python",
   "name": "python",
   "nbconvert_exporter": "python",
   "pygments_lexer": "ipython3",
   "version": "3.7.13"
  }
 },
 "nbformat": 4,
 "nbformat_minor": 5
}
